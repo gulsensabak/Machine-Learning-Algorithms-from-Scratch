{
 "cells": [
  {
   "cell_type": "markdown",
   "metadata": {},
   "source": [
    "# Interclass and Intraclass similarities with 3 different metrics"
   ]
  },
  {
   "cell_type": "code",
   "execution_count": 1,
   "metadata": {},
   "outputs": [
    {
     "name": "stdout",
     "output_type": "stream",
     "text": [
      "Mean Intra-Class Similarity (Robusta - Euclidean): 2.5899776083485926\n",
      "Mean Intra-Class Similarity (Arabica - Euclidean): 2.247596220366747\n",
      "Mean Inter-Class Similarity (Robusta vs Arabica - Euclidean): 2.8411348242605876\n",
      "\n",
      "Mean Intra-Class Similarity (Robusta - Manhattan): 4.172070757759082\n",
      "Mean Intra-Class Similarity (Arabica - Manhattan): 3.6861742640973105\n",
      "Mean Inter-Class Similarity (Robusta vs Arabica - Manhattan): 4.76755682989604\n",
      "\n",
      "Mean Intra-Class Similarity (Robusta - Cosine): 0.10574167576080255\n",
      "Mean Intra-Class Similarity (Arabica - Cosine): 0.16930787444266063\n",
      "Mean Inter-Class Similarity (Robusta vs Arabica - Cosine): -0.12573756099922404\n"
     ]
    }
   ],
   "source": [
    "import pandas as pd\n",
    "import numpy as np\n",
    "from sklearn.metrics import pairwise_distances\n",
    "from sklearn.preprocessing import StandardScaler\n",
    "from sklearn.metrics.pairwise import cosine_similarity\n",
    "\n",
    "# Read dataset\n",
    "X = pd.read_excel(\"../coffeeDataSynthesized.xlsx\", \"dataset\")\n",
    "\n",
    "# Extracting labels\n",
    "y = np.where(X[\"type\"] == \"robusta\", 0, 1)  # Convert type to numeric: 0 for robusta, 1 for arabica\n",
    "y = pd.Series(y)\n",
    "\n",
    "# Extracting the features for clustering\n",
    "X_features = X[['width', 'height', 'depth', 'weight']]\n",
    "\n",
    "# Normalizing the features\n",
    "scaler = StandardScaler()\n",
    "X_normalized = scaler.fit_transform(X_features)\n",
    "\n",
    "# Splitting data into classes\n",
    "X_robusta = X_normalized[y == 0]\n",
    "X_arabica = X_normalized[y == 1]\n",
    "\n",
    "# **Euclidean Distance (L1 Norm)**\n",
    "# Intra-class similarity (robusta)\n",
    "intra_robusta = pairwise_distances(X_robusta, metric='euclidean')\n",
    "mean_intra_robusta = np.mean(intra_robusta)\n",
    "\n",
    "# Intra-class similarity (arabica)\n",
    "intra_arabica = pairwise_distances(X_arabica, metric='euclidean')\n",
    "mean_intra_arabica = np.mean(intra_arabica)\n",
    "\n",
    "# Inter-class similarity (robusta vs arabica)\n",
    "inter_class = pairwise_distances(X_robusta, X_arabica, metric='euclidean')\n",
    "mean_inter_class = np.mean(inter_class)\n",
    "\n",
    "\n",
    "# **Manhattan Distance (L1 Norm)**\n",
    "# Intra-class similarity (robusta)\n",
    "intra_robusta_manhattan = pairwise_distances(X_robusta, metric='manhattan')\n",
    "mean_intra_robusta_manhattan = np.mean(intra_robusta_manhattan)\n",
    "\n",
    "# Intra-class similarity (arabica)\n",
    "intra_arabica_manhattan = pairwise_distances(X_arabica, metric='manhattan')\n",
    "mean_intra_arabica_manhattan = np.mean(intra_arabica_manhattan)\n",
    "\n",
    "# Inter-class similarity (robusta vs arabica)\n",
    "inter_class_manhattan = pairwise_distances(X_robusta, X_arabica, metric='manhattan')\n",
    "mean_inter_class_manhattan = np.mean(inter_class_manhattan)\n",
    "\n",
    "# **Cosine Similarity**\n",
    "# Intra-class similarity (robusta)\n",
    "cosine_robusta = cosine_similarity(X_robusta)\n",
    "mean_cosine_robusta = np.mean(cosine_robusta)\n",
    "\n",
    "# Intra-class similarity (arabica)\n",
    "cosine_arabica = cosine_similarity(X_arabica)\n",
    "mean_cosine_arabica = np.mean(cosine_arabica)\n",
    "\n",
    "# Inter-class similarity (robusta vs arabica)\n",
    "cosine_inter_class = cosine_similarity(X_robusta, X_arabica)\n",
    "mean_cosine_inter_class = np.mean(cosine_inter_class)\n",
    "\n",
    "# Display results\n",
    "print(f'Mean Intra-Class Similarity (Robusta - Euclidean): {mean_intra_robusta}')\n",
    "print(f'Mean Intra-Class Similarity (Arabica - Euclidean): {mean_intra_arabica}')\n",
    "print(f'Mean Inter-Class Similarity (Robusta vs Arabica - Euclidean): {mean_inter_class}')\n",
    "\n",
    "print()\n",
    "\n",
    "print(f'Mean Intra-Class Similarity (Robusta - Manhattan): {mean_intra_robusta_manhattan}')\n",
    "print(f'Mean Intra-Class Similarity (Arabica - Manhattan): {mean_intra_arabica_manhattan}')\n",
    "print(f'Mean Inter-Class Similarity (Robusta vs Arabica - Manhattan): {mean_inter_class_manhattan}')\n",
    "\n",
    "print()\n",
    "\n",
    "print(f'Mean Intra-Class Similarity (Robusta - Cosine): {mean_cosine_robusta}')\n",
    "print(f'Mean Intra-Class Similarity (Arabica - Cosine): {mean_cosine_arabica}')\n",
    "print(f'Mean Inter-Class Similarity (Robusta vs Arabica - Cosine): {mean_cosine_inter_class}')\n"
   ]
  }
 ],
 "metadata": {
  "kernelspec": {
   "display_name": "Python 3",
   "language": "python",
   "name": "python3"
  },
  "language_info": {
   "codemirror_mode": {
    "name": "ipython",
    "version": 3
   },
   "file_extension": ".py",
   "mimetype": "text/x-python",
   "name": "python",
   "nbconvert_exporter": "python",
   "pygments_lexer": "ipython3",
   "version": "3.10.12"
  }
 },
 "nbformat": 4,
 "nbformat_minor": 2
}
