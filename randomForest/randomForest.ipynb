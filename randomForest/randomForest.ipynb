{
 "cells": [
  {
   "cell_type": "code",
   "execution_count": 1,
   "metadata": {},
   "outputs": [
    {
     "name": "stdout",
     "output_type": "stream",
     "text": [
      "Cross-validation accuracies for each configuration:\n",
      "n_estimators=10: Accuracy=0.8668\n",
      "n_estimators=50: Accuracy=0.8709\n",
      "n_estimators=100: Accuracy=0.8802\n",
      "n_estimators=200: Accuracy=0.8771\n",
      "n_estimators=500: Accuracy=0.8781\n",
      "\n",
      "Optimal number of trees: 100\n",
      "\n",
      "Training Accuracy: 1.0000\n",
      "Test Accuracy: 0.9050\n",
      "\n",
      "Test Classification Report:\n",
      "              precision    recall  f1-score   support\n",
      "\n",
      "           0       0.92      0.88      0.90       120\n",
      "           1       0.89      0.93      0.91       122\n",
      "\n",
      "    accuracy                           0.90       242\n",
      "   macro avg       0.91      0.90      0.90       242\n",
      "weighted avg       0.91      0.90      0.90       242\n",
      "\n",
      "\n",
      "Training time: 0.15 seconds\n"
     ]
    }
   ],
   "source": [
    "from sklearn.ensemble import RandomForestClassifier\n",
    "from sklearn.model_selection import GridSearchCV, train_test_split\n",
    "from sklearn.metrics import classification_report, accuracy_score\n",
    "import time\n",
    "import numpy as np\n",
    "import pandas as pd\n",
    "\n",
    "# Read Excel file\n",
    "# Load dataset\n",
    "X = pd.read_excel(\"../coffeeDataSynthesized.xlsx\", \"dataset\")\n",
    "y = np.where(X[\"type\"] == \"robusta\", 0, 1)\n",
    "y = pd.Series(y)\n",
    "\n",
    "X = X[['width', 'height', 'depth', 'weight']]\n",
    "X_train, X_test, y_train, y_test = train_test_split(X, y, test_size=0.2, random_state=44)\n",
    "\n",
    "# (a) Determine the number of trees using 5-fold cross-validation\n",
    "param_grid = {'n_estimators': [10, 50, 100, 200, 500]}\n",
    "grid_search = GridSearchCV(RandomForestClassifier(random_state=44), param_grid, cv=5, scoring='accuracy')\n",
    "grid_search.fit(X_train, y_train)\n",
    "\n",
    "# Print cross-validation accuracy for each configuration\n",
    "print(\"Cross-validation accuracies for each configuration:\")\n",
    "cv_results = pd.DataFrame(grid_search.cv_results_)\n",
    "for param, mean_score in zip(cv_results['param_n_estimators'], cv_results['mean_test_score']):\n",
    "    print(f\"n_estimators={param}: Accuracy={mean_score:.4f}\")\n",
    "\n",
    "# Best number of trees\n",
    "best_n_estimators = grid_search.best_params_['n_estimators']\n",
    "print(f\"\\nOptimal number of trees: {best_n_estimators}\")\n",
    "\n",
    "# (b) Train final model\n",
    "start_time = time.time()\n",
    "final_model = RandomForestClassifier(n_estimators=best_n_estimators, random_state=44)\n",
    "final_model.fit(X_train, y_train)\n",
    "train_time = time.time() - start_time\n",
    "\n",
    "# Evaluate performance on training set\n",
    "train_preds = final_model.predict(X_train)\n",
    "train_accuracy = accuracy_score(y_train, train_preds)\n",
    "print(f\"\\nTraining Accuracy: {train_accuracy:.4f}\")\n",
    "\n",
    "# Evaluate performance on test set\n",
    "test_preds = final_model.predict(X_test)\n",
    "test_accuracy = accuracy_score(y_test, test_preds)\n",
    "print(f\"Test Accuracy: {test_accuracy:.4f}\")\n",
    "\n",
    "# Detailed classification report\n",
    "print(\"\\nTest Classification Report:\")\n",
    "print(classification_report(y_test, test_preds))\n",
    "\n",
    "# Runtime summary\n",
    "print(f\"\\nTraining time: {train_time:.2f} seconds\")\n"
   ]
  },
  {
   "cell_type": "code",
   "execution_count": 2,
   "metadata": {},
   "outputs": [
    {
     "name": "stdout",
     "output_type": "stream",
     "text": [
      "Confusion Matrix:\n",
      "[[106  14]\n",
      " [  9 113]]\n"
     ]
    }
   ],
   "source": [
    "from sklearn.metrics import confusion_matrix\n",
    "cm = confusion_matrix(y_test, test_preds)\n",
    "\n",
    "# Print the confusion matrix\n",
    "print(\"Confusion Matrix:\")\n",
    "print(cm)"
   ]
  },
  {
   "cell_type": "code",
   "execution_count": 3,
   "metadata": {},
   "outputs": [
    {
     "name": "stdout",
     "output_type": "stream",
     "text": [
      "Accuracy: 0.9050\n",
      "Recall: 0.9262\n",
      "Precision: 0.8898\n",
      "F1-score: 0.9076\n",
      "AUROC: 0.9048\n"
     ]
    }
   ],
   "source": [
    "from sklearn.metrics import accuracy_score, roc_auc_score, average_precision_score, recall_score, precision_score, f1_score\n",
    "\n",
    "# Assuming y_true and y_pred are your true labels and predicted labels\n",
    "# For probabilities, use y_pred_proba for AUROC and average precision.\n",
    "model_scratch = RandomForestClassifier(random_state=42)\n",
    "\n",
    "# Example: Classification accuracy\n",
    "accuracy = accuracy_score(y_test, test_preds)\n",
    "\n",
    "# Example: Recall, Precision, and F1-score\n",
    "recall = recall_score(y_test, test_preds)\n",
    "precision = precision_score(y_test, test_preds)\n",
    "f1 = f1_score(y_test, test_preds)\n",
    "auroc = roc_auc_score(y_test, test_preds)\n",
    "\n",
    "# Print all metrics\n",
    "print(f\"Accuracy: {accuracy:.4f}\")\n",
    "print(f\"Recall: {recall:.4f}\")\n",
    "print(f\"Precision: {precision:.4f}\")\n",
    "print(f\"F1-score: {f1:.4f}\")\n",
    "print(f\"AUROC: {auroc:.4f}\")\n"
   ]
  }
 ],
 "metadata": {
  "kernelspec": {
   "display_name": "Python 3",
   "language": "python",
   "name": "python3"
  },
  "language_info": {
   "codemirror_mode": {
    "name": "ipython",
    "version": 3
   },
   "file_extension": ".py",
   "mimetype": "text/x-python",
   "name": "python",
   "nbconvert_exporter": "python",
   "pygments_lexer": "ipython3",
   "version": "3.10.12"
  }
 },
 "nbformat": 4,
 "nbformat_minor": 2
}
